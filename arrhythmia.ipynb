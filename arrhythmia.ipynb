{
 "cells": [
  {
   "cell_type": "code",
   "execution_count": null,
   "metadata": {},
   "outputs": [],
   "source": []
  },
  {
   "cell_type": "code",
   "execution_count": 1,
   "metadata": {},
   "outputs": [
    {
     "ename": "NameError",
     "evalue": "name 'symptoms' is not defined",
     "output_type": "error",
     "traceback": [
      "\u001b[0;31m---------------------------------------------------------------------------\u001b[0m",
      "\u001b[0;31mNameError\u001b[0m                                 Traceback (most recent call last)",
      "\u001b[0;32m<ipython-input-1-1f5805ec8276>\u001b[0m in \u001b[0;36m<module>\u001b[0;34m\u001b[0m\n\u001b[1;32m      3\u001b[0m \u001b[0;31m#----------------------------------------------------------------------------------------------------------------------------------------------------------------\u001b[0m\u001b[0;34m\u001b[0m\u001b[0;34m\u001b[0m\u001b[0;34m\u001b[0m\u001b[0m\n\u001b[1;32m      4\u001b[0m \u001b[0;34m\u001b[0m\u001b[0m\n\u001b[0;32m----> 5\u001b[0;31m \u001b[0msymptomsOnlyArrhythmia\u001b[0m \u001b[0;34m=\u001b[0m \u001b[0msymptoms\u001b[0m\u001b[0;34m.\u001b[0m\u001b[0mloc\u001b[0m\u001b[0;34m[\u001b[0m\u001b[0;34m(\u001b[0m\u001b[0msymptoms\u001b[0m\u001b[0;34m[\u001b[0m\u001b[0;34m\"Condition\"\u001b[0m\u001b[0;34m]\u001b[0m \u001b[0;34m==\u001b[0m \u001b[0;34m\"Cardiac arrhythmia\"\u001b[0m\u001b[0;34m)\u001b[0m\u001b[0;34m]\u001b[0m\u001b[0;34m\u001b[0m\u001b[0;34m\u001b[0m\u001b[0m\n\u001b[0m\u001b[1;32m      6\u001b[0m \u001b[0;34m\u001b[0m\u001b[0m\n\u001b[1;32m      7\u001b[0m \u001b[0;31m#----------------------------------------------------------------------------------------------------------------------------------------------------------------\u001b[0m\u001b[0;34m\u001b[0m\u001b[0;34m\u001b[0m\u001b[0;34m\u001b[0m\u001b[0m\n",
      "\u001b[0;31mNameError\u001b[0m: name 'symptoms' is not defined"
     ]
    }
   ],
   "source": [
    "# part seperated by the lines is 1 step\n",
    "\n",
    "#----------------------------------------------------------------------------------------------------------------------------------------------------------------\n",
    "\n",
    "symptomsOnlyArrhythmia = symptoms.loc[(symptoms[\"Condition\"] == \"Cardiac arrhythmia\")]\n",
    "\n",
    "#----------------------------------------------------------------------------------------------------------------------------------------------------------------\n",
    "\n",
    "groupedByState = symptoms.groupby('State') # without Arrhythmia states and deaths\n",
    "setOfStates = set(symptoms[\"State\"])\n",
    "lst = list(setOfStates)\n",
    "lst2 = []\n",
    "for state in setOfStates:\n",
    "    conditionGroup = groupedByState.get_group(state)\n",
    "    lst2.append(conditionGroup[\"Number of COVID-19 Deaths\"].sum())\n",
    "\n",
    "groupedByStateArrhythmia = symptomsOnlyArrhythmia.groupby('State') # with Arrhythmia states and deaths\n",
    "setOfStatesArrhythmia = set(symptomsOnlyArrhythmia[\"State\"])\n",
    "lstArrhythmia = list(setOfStatesArrhythmia)\n",
    "lst2Arrhythmia = []\n",
    "for stateArrhythmia in setOfStatesArrhythmia:\n",
    "    conditionGroupArrhythmia = groupedByStateArrhythmia.get_group(stateArrhythmia)\n",
    "    lst2Arrhythmia.append(conditionGroupArrhythmia[\"Number of COVID-19 Deaths\"].sum())\n",
    "\n",
    "dfOfStatesAndTotalDeaths = pd.DataFrame(list(zip(lst, lst2)), columns=['state', 'total_COVID-19_deaths']) # without Arrhythmia states and deaths df\n",
    "print(dfOfStatesAndTotalDeaths)\n",
    "print(dfOfStatesAndTotalDeaths.shape)\n",
    "\n",
    "dfOfStatesAndTotalDeathsArrhythmia = pd.DataFrame(list(zip(lstArrhythmia, lst2Arrhythmia)), columns=['state', 'total_COVID-19_deaths']) # with Arrhythmia states and deaths df\n",
    "print(dfOfStatesAndTotalDeathsArrhythmia)\n",
    "print(dfOfStatesAndTotalDeathsArrhythmia.shape)\n",
    "\n",
    "#----------------------------------------------------------------------------------------------------------------------------------------------------------------\n"
   ]
  }
 ],
 "metadata": {
  "kernelspec": {
   "display_name": "Python 3",
   "language": "python",
   "name": "python3"
  },
  "language_info": {
   "codemirror_mode": {
    "name": "ipython",
    "version": 3
   },
   "file_extension": ".py",
   "mimetype": "text/x-python",
   "name": "python",
   "nbconvert_exporter": "python",
   "pygments_lexer": "ipython3",
   "version": "3.7.6"
  }
 },
 "nbformat": 4,
 "nbformat_minor": 4
}

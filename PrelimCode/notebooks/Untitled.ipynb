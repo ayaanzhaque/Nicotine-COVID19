{
 "cells": [
  {
   "cell_type": "code",
   "execution_count": 1,
   "metadata": {},
   "outputs": [],
   "source": [
    "import pandas as pd\n",
    "import numpy as np\n",
    "import matplotlib.pyplot as plt"
   ]
  },
  {
   "cell_type": "code",
   "execution_count": 2,
   "metadata": {},
   "outputs": [],
   "source": [
    "df = pd.read_csv(\"https://raw.githubusercontent.com/ayaanzhaque/asdrp-rao-2/master/datasets/Conditions_contributing_to_deaths_involving_coronavirus_disease_2019__COVID-19___by_age_group_and_state__United_States..csv\")"
   ]
  },
  {
   "cell_type": "code",
   "execution_count": 3,
   "metadata": {},
   "outputs": [
    {
     "data": {
      "text/html": [
       "<div>\n",
       "<style scoped>\n",
       "    .dataframe tbody tr th:only-of-type {\n",
       "        vertical-align: middle;\n",
       "    }\n",
       "\n",
       "    .dataframe tbody tr th {\n",
       "        vertical-align: top;\n",
       "    }\n",
       "\n",
       "    .dataframe thead th {\n",
       "        text-align: right;\n",
       "    }\n",
       "</style>\n",
       "<table border=\"1\" class=\"dataframe\">\n",
       "  <thead>\n",
       "    <tr style=\"text-align: right;\">\n",
       "      <th></th>\n",
       "      <th>Data as of</th>\n",
       "      <th>Start Week</th>\n",
       "      <th>End Week</th>\n",
       "      <th>State</th>\n",
       "      <th>Condition Group</th>\n",
       "      <th>Condition</th>\n",
       "      <th>ICD10_codes</th>\n",
       "      <th>Age Group</th>\n",
       "      <th>Number of COVID-19 Deaths</th>\n",
       "      <th>Flag</th>\n",
       "    </tr>\n",
       "  </thead>\n",
       "  <tbody>\n",
       "    <tr>\n",
       "      <th>0</th>\n",
       "      <td>07/12/2020</td>\n",
       "      <td>02/01/2020</td>\n",
       "      <td>07/11/2020</td>\n",
       "      <td>AK</td>\n",
       "      <td>Respiratory diseases</td>\n",
       "      <td>Influenza and pneumonia</td>\n",
       "      <td>J09-J18</td>\n",
       "      <td>55-64</td>\n",
       "      <td>NaN</td>\n",
       "      <td>Counts less than 10 suppressed.</td>\n",
       "    </tr>\n",
       "    <tr>\n",
       "      <th>1</th>\n",
       "      <td>07/12/2020</td>\n",
       "      <td>02/01/2020</td>\n",
       "      <td>07/11/2020</td>\n",
       "      <td>AK</td>\n",
       "      <td>Respiratory diseases</td>\n",
       "      <td>Influenza and pneumonia</td>\n",
       "      <td>J09-J18</td>\n",
       "      <td>65-74</td>\n",
       "      <td>NaN</td>\n",
       "      <td>Counts less than 10 suppressed.</td>\n",
       "    </tr>\n",
       "    <tr>\n",
       "      <th>2</th>\n",
       "      <td>07/12/2020</td>\n",
       "      <td>02/01/2020</td>\n",
       "      <td>07/11/2020</td>\n",
       "      <td>AK</td>\n",
       "      <td>Respiratory diseases</td>\n",
       "      <td>Influenza and pneumonia</td>\n",
       "      <td>J09-J18</td>\n",
       "      <td>75-84</td>\n",
       "      <td>NaN</td>\n",
       "      <td>Counts less than 10 suppressed.</td>\n",
       "    </tr>\n",
       "    <tr>\n",
       "      <th>3</th>\n",
       "      <td>07/12/2020</td>\n",
       "      <td>02/01/2020</td>\n",
       "      <td>07/11/2020</td>\n",
       "      <td>AK</td>\n",
       "      <td>Respiratory diseases</td>\n",
       "      <td>Chronic lower respiratory diseases</td>\n",
       "      <td>J40-J47</td>\n",
       "      <td>65-74</td>\n",
       "      <td>NaN</td>\n",
       "      <td>Counts less than 10 suppressed.</td>\n",
       "    </tr>\n",
       "    <tr>\n",
       "      <th>4</th>\n",
       "      <td>07/12/2020</td>\n",
       "      <td>02/01/2020</td>\n",
       "      <td>07/11/2020</td>\n",
       "      <td>AK</td>\n",
       "      <td>Respiratory diseases</td>\n",
       "      <td>Adult respiratory distress syndrome</td>\n",
       "      <td>J80</td>\n",
       "      <td>25-34</td>\n",
       "      <td>NaN</td>\n",
       "      <td>Counts less than 10 suppressed.</td>\n",
       "    </tr>\n",
       "  </tbody>\n",
       "</table>\n",
       "</div>"
      ],
      "text/plain": [
       "   Data as of  Start Week    End Week State       Condition Group  \\\n",
       "0  07/12/2020  02/01/2020  07/11/2020    AK  Respiratory diseases   \n",
       "1  07/12/2020  02/01/2020  07/11/2020    AK  Respiratory diseases   \n",
       "2  07/12/2020  02/01/2020  07/11/2020    AK  Respiratory diseases   \n",
       "3  07/12/2020  02/01/2020  07/11/2020    AK  Respiratory diseases   \n",
       "4  07/12/2020  02/01/2020  07/11/2020    AK  Respiratory diseases   \n",
       "\n",
       "                             Condition ICD10_codes Age Group  \\\n",
       "0              Influenza and pneumonia     J09-J18     55-64   \n",
       "1              Influenza and pneumonia     J09-J18     65-74   \n",
       "2              Influenza and pneumonia     J09-J18     75-84   \n",
       "3   Chronic lower respiratory diseases     J40-J47     65-74   \n",
       "4  Adult respiratory distress syndrome         J80     25-34   \n",
       "\n",
       "   Number of COVID-19 Deaths                             Flag  \n",
       "0                        NaN  Counts less than 10 suppressed.  \n",
       "1                        NaN  Counts less than 10 suppressed.  \n",
       "2                        NaN  Counts less than 10 suppressed.  \n",
       "3                        NaN  Counts less than 10 suppressed.  \n",
       "4                        NaN  Counts less than 10 suppressed.  "
      ]
     },
     "execution_count": 3,
     "metadata": {},
     "output_type": "execute_result"
    }
   ],
   "source": [
    "df.head()"
   ]
  },
  {
   "cell_type": "code",
   "execution_count": 5,
   "metadata": {},
   "outputs": [
    {
     "data": {
      "text/plain": [
       "array(['Respiratory diseases', 'Circulatory diseases', 'Sepsis',\n",
       "       'Malignant neoplasms', 'Alzheimer disease', 'Renal failure',\n",
       "       'All other conditions and causes (residual)',\n",
       "       'Coronavirus Disease 2019', 'Diabetes', 'Obesity',\n",
       "       'Vascular and unspecified dementia',\n",
       "       'Intentional and unintentional injury, poisoning and other adverse events'],\n",
       "      dtype=object)"
      ]
     },
     "execution_count": 5,
     "metadata": {},
     "output_type": "execute_result"
    }
   ],
   "source": [
    "df[\"Condition Group\"].unique()"
   ]
  },
  {
   "cell_type": "code",
   "execution_count": null,
   "metadata": {},
   "outputs": [],
   "source": []
  }
 ],
 "metadata": {
  "kernelspec": {
   "display_name": "Python 3",
   "language": "python",
   "name": "python3"
  },
  "language_info": {
   "codemirror_mode": {
    "name": "ipython",
    "version": 3
   },
   "file_extension": ".py",
   "mimetype": "text/x-python",
   "name": "python",
   "nbconvert_exporter": "python",
   "pygments_lexer": "ipython3",
   "version": "3.7.6"
  }
 },
 "nbformat": 4,
 "nbformat_minor": 4
}

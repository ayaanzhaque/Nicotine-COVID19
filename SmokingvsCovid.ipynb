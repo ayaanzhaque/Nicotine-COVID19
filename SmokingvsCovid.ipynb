import numpy as np
import matplotlib.pyplot as plt
import pandas as pd

data = pd.read_csv('/content/csvData.csv')  

f, ax = plt.subplots(figsize=(100,30))
pairs = {}
order = []
states = []
num = 0
for a in data.State:
    states.append(a)
    order.append(a)
states.sort()
for a in states:
    pairs.update({a : data.smokingRate[order.index(a)]})
    num += 1
rates = []
xvals = []
i = 0.5
for a in pairs.values():
    rates.append(a)
    xvals.append(i)
    i += 1
plt.xticks(xvals, states, rotation='vertical')
plt.bar(states, rates, align = 'edge', width=0.8)
f.suptitle('Smoking Percentages per State', fontsize=100)
ax.set_xlabel('States', fontsize=75)
ax.set_ylabel('Percentage of Population that Smokes', fontsize=75)  

data2 = pd.read_csv('/content/datasets_575527_1172060_COVID19_state.csv')
f, ax = plt.subplots(figsize=(100,30))
pairs = {}
order = []
num = 0
for a in data2.State:
    order.append(a)

for a in states:
    pairs.update({a : data2.Infected[order.index(a)]})
    num += 1
rates = []
xvals = []
i = 0.5
for a in pairs.values():
    rates.append(a)
    xvals.append(i)
    i += 1
plt.xticks(xvals, states, rotation='vertical')
plt.bar(states, rates, align = 'edge', width=0.8)
f.suptitle('COVID-19 Cases per State', fontsize=100)
ax.set_xlabel('States', fontsize=75)
ax.set_ylabel('COVID-19 Cases', fontsize=75)  
